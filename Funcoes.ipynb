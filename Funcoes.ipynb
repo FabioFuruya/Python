{
 "cells": [
  {
   "cell_type": "markdown",
   "metadata": {},
   "source": [
    "Funcoes"
   ]
  },
  {
   "cell_type": "markdown",
   "metadata": {},
   "source": [
    "Sintaxe basica"
   ]
  },
  {
   "cell_type": "code",
   "execution_count": null,
   "metadata": {},
   "outputs": [],
   "source": [
    "def nome_da_funca(parametros):\n",
    "    '''\n",
    "        corpo da funcao\n",
    "    '''"
   ]
  },
  {
   "cell_type": "code",
   "execution_count": 1,
   "metadata": {},
   "outputs": [
    {
     "name": "stdout",
     "output_type": "stream",
     "text": [
      "Seja Bem-vindo\n"
     ]
    }
   ],
   "source": [
    "def exibe_mensagem():\n",
    "    print('Seja Bem-vindo')\n",
    "\n",
    "exibe_mensagem()"
   ]
  },
  {
   "cell_type": "code",
   "execution_count": 6,
   "metadata": {},
   "outputs": [
    {
     "name": "stdout",
     "output_type": "stream",
     "text": [
      "Seja Bem-vindo\n"
     ]
    }
   ],
   "source": [
    "def exibe_mensagem():\n",
    "    return 'Seja Bem-vindo'\n",
    "\n",
    "exibe_mensagem() #retorna um valor string\n",
    "print(exibe_mensagem()) #pegao o retorno string e exibe com o comando print"
   ]
  },
  {
   "cell_type": "code",
   "execution_count": 13,
   "metadata": {},
   "outputs": [
    {
     "name": "stdout",
     "output_type": "stream",
     "text": [
      "Erro conversao\n",
      "Dividir: False\n"
     ]
    }
   ],
   "source": [
    "from os import system\n",
    "\n",
    "def soma(v1, v2):\n",
    "    try:\n",
    "       return float(v1)+float(v2)\n",
    "    except:\n",
    "        return False\n",
    "\n",
    "def subtracao(v1, v2):\n",
    "    return v1-v2\n",
    "\n",
    "def multiplicacao(v1, v2):\n",
    "    return v1*v2\n",
    "\n",
    "def divisao(v1,v2):\n",
    "    \"\"\" if v1 == 0 or v2 == 0:\n",
    "        return False \"\"\"\n",
    "    try:\n",
    "        return float(v1)/float(v2)\n",
    "    except ZeroDivisionError as error:\n",
    "        print(error)\n",
    "        return False\n",
    "    except:\n",
    "        print('Erro conversao')\n",
    "        return False\n",
    "\n",
    "\n",
    "opcao=1\n",
    "while opcao:\n",
    "    system('cls')\n",
    "    v1 = (input('Informe valor1: '))\n",
    "    v2 = (input('Informe valor2: '))\n",
    "    operador = int(input('''\n",
    "    1. Somar\n",
    "    2. Subtrair\n",
    "    3. Multiplicar\n",
    "    4. Dividir\n",
    "    Opção: \n",
    "    '''))\n",
    "    if operador == 1:\n",
    "        print(f'Soma: {soma(v1,v2)}')\n",
    "    if operador == 2:\n",
    "        print(f'Subtrair: {subtracao(v1,v2)}')\n",
    "    if operador == 3:\n",
    "        print(f'Multiplicar: {multiplicacao(v1,v2)}')\n",
    "    if operador == 4:\n",
    "        print(f'Dividir: {divisao(v1,v2)}')\n",
    "    \n",
    "    opcao = input(f'\\nAperte 0 para sair ou Enter para continuar')\n",
    "    if opcao == \"0\":\n",
    "        opcao=int(opcao)\n",
    "    else:\n",
    "        opcao=1\n",
    "\n",
    "\n",
    "\n",
    "\n"
   ]
  },
  {
   "cell_type": "markdown",
   "metadata": {},
   "source": [
    "Uso das funcoes da biblioteca Math"
   ]
  },
  {
   "cell_type": "code",
   "execution_count": 27,
   "metadata": {},
   "outputs": [
    {
     "name": "stdout",
     "output_type": "stream",
     "text": [
      "5\n",
      "3\n",
      "1.0\n",
      "3.0\n",
      "3\n",
      "6.0\n",
      "4.0\n",
      "4\n",
      "4.99\n"
     ]
    }
   ],
   "source": [
    "from os import system\n",
    "import math, random\n",
    "\n",
    "#help(math)\n",
    "#help(random)\n",
    "\n",
    "#inteiro pra cima\n",
    "print(math.ceil(4.2))\n",
    "\n",
    "#inteiro pra baixo\n",
    "print(math.floor(3.9))\n",
    "\n",
    "#numero absoluto\n",
    "print(math.fabs(-1))\n",
    "\n",
    "#mod = resto de uma divisao\n",
    "print(math.fmod(11,4))\n",
    "print(f'{11%4}')\n",
    "#raiz quadrada\n",
    "print(math.sqrt(36))\n",
    "\n",
    "#potencia\n",
    "print(math.pow(2,2))\n",
    "print(2**2)\n",
    "\n",
    "#arredondamentos nao faz parte da math\n",
    "print(round(4.989, 2))\n",
    "\n",
    "\n"
   ]
  },
  {
   "cell_type": "markdown",
   "metadata": {},
   "source": [
    "Funcoes de datas"
   ]
  },
  {
   "cell_type": "code",
   "execution_count": 50,
   "metadata": {},
   "outputs": [
    {
     "name": "stdout",
     "output_type": "stream",
     "text": [
      "1986-02-07\n",
      "1986\n",
      "2\n",
      "7\n",
      "2022-11-24\n",
      "3\n",
      "22:22:45.544021\n",
      "22\n",
      "22\n",
      "45\n",
      "47\n",
      "1986-02-07 00:00:00\n",
      "Sua idade é: 36 anos\n",
      "Voce ja viveu 13440 dias abençoados\n",
      "2022-11-21\n",
      "2022-11-27\n"
     ]
    }
   ],
   "source": [
    "from datetime import datetime, date, time, timedelta\n",
    "\n",
    "data = date(1986,2,7)\n",
    "print(data)\n",
    "print(data.year)\n",
    "print(data.month)\n",
    "print(data.day)\n",
    "\n",
    "dataHoje = datetime.now()\n",
    "print(dataHoje.date())\n",
    "print(dataHoje.weekday())\n",
    "print(dataHoje.time())\n",
    "print(dataHoje.hour)\n",
    "print(dataHoje.minute)\n",
    "print(dataHoje.second)\n",
    "\n",
    "calendario = dataHoje.isocalendar()\n",
    "print(calendario.week)\n",
    "\n",
    "\n",
    "def idade(nascimento):\n",
    "    today = datetime.now()\n",
    "    return today.year - nascimento.year - ((today.month,today.day) < (nascimento.month, nascimento.day))\n",
    "\n",
    "def totalDiasVividos(nascimento):\n",
    "    today = datetime.now()\n",
    "    return abs((nascimento - today).days)\n",
    "\n",
    "def inicioFimSemana():\n",
    "    if ((datetime.today().isoweekday() % 7 - 1) < 0):\n",
    "        diaInicioSemana = 7 - 1\n",
    "    else:\n",
    "        diaInicioSemana = datetime.today().isoweekday() % 7 - 1\n",
    "    dataInicioSemana = datetime.today() - timedelta(days=diaInicioSemana)\n",
    "    dataFimSemana = dataInicioSemana + timedelta(days=6)\n",
    "    print(dataInicioSemana.date())\n",
    "    print(dataFimSemana.date())\n",
    "\n",
    "dataNascimento = input('Informe a sua data de nascimento(dd/mm/aaaa): ')\n",
    "dataNascimento = datetime.strptime(dataNascimento,'%d/%m/%Y')\n",
    "print(dataNascimento)\n",
    "\n",
    "print(f'Sua idade é: {idade(dataNascimento)} anos')\n",
    "print(f'Voce ja viveu {totalDiasVividos(dataNascimento)} dias abençoados')\n",
    "\n",
    "inicioFimSemana()\n"
   ]
  }
 ],
 "metadata": {
  "interpreter": {
   "hash": "0adfdfe6ada0584596d2b50a0044c8c4dba4c2a1422c105db34303e973b14a07"
  },
  "kernelspec": {
   "display_name": "Python 3.11.0 64-bit",
   "language": "python",
   "name": "python3"
  },
  "language_info": {
   "codemirror_mode": {
    "name": "ipython",
    "version": 3
   },
   "file_extension": ".py",
   "mimetype": "text/x-python",
   "name": "python",
   "nbconvert_exporter": "python",
   "pygments_lexer": "ipython3",
   "version": "3.11.0"
  },
  "orig_nbformat": 4
 },
 "nbformat": 4,
 "nbformat_minor": 2
}
