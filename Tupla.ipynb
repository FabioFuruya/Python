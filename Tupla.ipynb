{
 "cells": [
  {
   "cell_type": "markdown",
   "metadata": {},
   "source": [
    "Tupla"
   ]
  },
  {
   "cell_type": "code",
   "execution_count": 13,
   "metadata": {},
   "outputs": [
    {
     "name": "stdout",
     "output_type": "stream",
     "text": [
      "('zero', 'um', 'dois', 'tres', 'quatro', 'cinco', 'seis', 'sete', 'oito', 'nove')\n",
      "zero\n",
      "2\n",
      "1\n",
      "10\n",
      "vinte e zero\n"
     ]
    }
   ],
   "source": [
    "numeros = ('zero', 'um', 'dois', 'tres', 'quatro', 'cinco', 'seis', 'sete', 'oito', 'nove')\n",
    "\n",
    "print(numeros)\n",
    "print(numeros[0])\n",
    "print(numeros.index('dois'))\n",
    "print(numeros.count('dois'))\n",
    "print(len(numeros))\n",
    "\n",
    "dez = ('dez','onze','doze','treze','quatorze','quinze','dezesseis','dezessete','dezoito','dezenove')\n",
    "dezenas = ('','','vinte','trinta','quarenta','cinco','sessenta','oitenta','noventa')\n",
    "\n",
    "indice = int(input('Digite um numero entre 0 e 19: '))\n",
    "if indice < 10:\n",
    "    extenso = numeros[indice]\n",
    "elif indice < 20:\n",
    "    extenso = dez[indice-10]\n",
    "elif indice <= 99:\n",
    "    dezena = int(indice / 10)\n",
    "    numeral = indice % 10\n",
    "    if numeral > 0:\n",
    "        extenso = dezenas[dezena] + ' e ' + numeros[numeral]\n",
    "    else:\n",
    "        extenso = dezenas[dezena]\n",
    "print(extenso)"
   ]
  },
  {
   "cell_type": "code",
   "execution_count": 3,
   "metadata": {},
   "outputs": [
    {
     "name": "stdout",
     "output_type": "stream",
     "text": [
      "sabado\n",
      "Fevereiro\n"
     ]
    }
   ],
   "source": [
    "diasSemana = ('','segunda-feira','terça-feira', 'quarta-feira', 'quinta-feira','sexta-feira','sabado','domingo')\n",
    "escolha = int(input('Escolha de 1 a 7 para o dia da semana: '))\n",
    "print(diasSemana[escolha])\n",
    "mesNome = ('','Janeiro','Fevereiro','Março','Abril','Maio','Junho','Julho','Agosto','Setembro','Outubro','Novembro', 'Dezembro')\n",
    "escolha = int(input('Escolha de 1 a 12 para o mes: '))\n",
    "print(mesNome[escolha])"
   ]
  }
 ],
 "metadata": {
  "interpreter": {
   "hash": "0adfdfe6ada0584596d2b50a0044c8c4dba4c2a1422c105db34303e973b14a07"
  },
  "kernelspec": {
   "display_name": "Python 3.11.0 64-bit",
   "language": "python",
   "name": "python3"
  },
  "language_info": {
   "codemirror_mode": {
    "name": "ipython",
    "version": 3
   },
   "file_extension": ".py",
   "mimetype": "text/x-python",
   "name": "python",
   "nbconvert_exporter": "python",
   "pygments_lexer": "ipython3",
   "version": "3.11.0"
  },
  "orig_nbformat": 4
 },
 "nbformat": 4,
 "nbformat_minor": 2
}
