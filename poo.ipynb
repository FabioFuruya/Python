{
 "cells": [
  {
   "cell_type": "code",
   "execution_count": null,
   "metadata": {},
   "outputs": [],
   "source": []
  },
  {
   "cell_type": "markdown",
   "metadata": {},
   "source": [
    "Programação orientada à Objeto (Classes)"
   ]
  },
  {
   "cell_type": "code",
   "execution_count": null,
   "metadata": {},
   "outputs": [],
   "source": [
    "class Nome:\n",
    "    atributos\n",
    "    metodos\n",
    "    (objetos)\n",
    "#todo nome de classe começa com letra maiuscula\n",
    "\n"
   ]
  },
  {
   "cell_type": "code",
   "execution_count": null,
   "metadata": {},
   "outputs": [],
   "source": [
    "class Pessoa:\n",
    "    pass\n",
    "\n",
    "\n",
    "# pass - comando que diz para ignorar essa linha e ir para próxima instrução\n"
   ]
  },
  {
   "cell_type": "code",
   "execution_count": null,
   "metadata": {},
   "outputs": [],
   "source": [
    "class Pessoa:\n",
    "    pass\n",
    "\n",
    "pessoa1 = Pessoa()      # variável pessoa1 instancia(constroi) a classe Pessoa. Incorporando a sua estrutura\n",
    "\n",
    "pessoa1.nome = 'Adolfo'\n",
    "pessoa1.idade = 36\n",
    "\n",
    "print(pessoa1.nome)\n"
   ]
  },
  {
   "cell_type": "code",
   "execution_count": null,
   "metadata": {},
   "outputs": [],
   "source": [
    "class Pessoa:\n",
    "    def acao1(self):        #cria um método de classe \"acao1\" que resulta uma ação e retorna algum dado ou valor dentro da classe via self\n",
    "        print('Ação 1 sendo executada.......'):         # sel referencia a própria classe\n",
    "\n",
    "pessoa1.Pessoa()        \n",
    "pessoa1.acao1()\n",
    "\n",
    "\n"
   ]
  },
  {
   "cell_type": "code",
   "execution_count": null,
   "metadata": {},
   "outputs": [],
   "source": [
    "class Pessoa:\n",
    "    def __init__(self, nome, idade, genero, altura):\n",
    "    #metodo construtor, cria objetos e atributos    \n",
    "        self.nome = nome\n",
    "        self.idade = idade\n",
    "        self.genero = genero\n",
    "        self.altura = altura\n",
    "\n",
    "pessoa1 = Pessoa('Adolfo',36,'M',1.75)\n",
    "pessoa2 = Pessoa('Maria',28,'F',1.72)\n",
    "\n",
    "print(pessoa1.nome, pessoa1.idade)\n",
    "print(pessoa2.nome, pessoa2.idade)\n"
   ]
  },
  {
   "cell_type": "code",
   "execution_count": null,
   "metadata": {},
   "outputs": [],
   "source": [
    "class Pessoa:\n",
    "    ano_atual = 2022\n",
    "    def __init__(self, nome, idade):\n",
    "        self.nome = nome\n",
    "        self.idade = idade\n",
    "\n",
    "    def ano_nascimento(self):\n",
    "        ano_nasc = self.ano_atual - self.idade\n",
    "        print(f'Seu ano de nascimento é {ano_nasc}')\n",
    "\n",
    "pessoa1.Pessoa('Adolfo',36)\n",
    "pessoa1.ano_nascimento()\n",
    "\n"
   ]
  }
 ],
 "metadata": {
  "language_info": {
   "name": "plaintext"
  },
  "orig_nbformat": 4
 },
 "nbformat": 4,
 "nbformat_minor": 2
}
