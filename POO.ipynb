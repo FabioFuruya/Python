{
 "cells": [
  {
   "cell_type": "markdown",
   "metadata": {},
   "source": [
    "Programação orientada a objeto (Classes)"
   ]
  },
  {
   "cell_type": "code",
   "execution_count": null,
   "metadata": {},
   "outputs": [],
   "source": [
    "class Nome:\n",
    "    atributos\n",
    "    metodos\n",
    "    (objetos)\n",
    "#todo nome de classe comeca com letra Maiuscula"
   ]
  },
  {
   "cell_type": "code",
   "execution_count": 1,
   "metadata": {},
   "outputs": [],
   "source": [
    "class Pessoa:\n",
    "    pass\n",
    "\n",
    "# pass comando que diz para ignorar essa linha e ir para a proxima"
   ]
  },
  {
   "cell_type": "code",
   "execution_count": 5,
   "metadata": {},
   "outputs": [
    {
     "name": "stdout",
     "output_type": "stream",
     "text": [
      "Adolfo 36\n"
     ]
    }
   ],
   "source": [
    "class Pessoa:\n",
    "    pass\n",
    "\n",
    "pessoa1 = Pessoa()\n",
    "# variavel pessoa1 instancia(constroi) a classe Pessoa, incorporando sua\n",
    "#estrutura\n",
    "\n",
    "pessoa1.nome = 'Adolfo'\n",
    "pessoa1.idade = 36\n",
    "\n",
    "print(pessoa1.nome, pessoa1.idade)\n"
   ]
  },
  {
   "cell_type": "code",
   "execution_count": 6,
   "metadata": {},
   "outputs": [
    {
     "name": "stdout",
     "output_type": "stream",
     "text": [
      "Acao 1 sendo executado.....\n"
     ]
    }
   ],
   "source": [
    "class Pessoa:\n",
    "    def acao1(self):\n",
    "        # cria um metodo de classe acao1() que realiza uma acao e retorna\n",
    "        # algum dado ou valor dentro da classe via self\n",
    "        # self referencia a propria classe\n",
    "        print('Acao 1 sendo executado.....')\n",
    "\n",
    "pessoa1 = Pessoa()\n",
    "pessoa1.acao1()"
   ]
  },
  {
   "cell_type": "code",
   "execution_count": 7,
   "metadata": {},
   "outputs": [
    {
     "name": "stdout",
     "output_type": "stream",
     "text": [
      "Adolfo 36\n",
      "Maria 28\n"
     ]
    }
   ],
   "source": [
    "class Pessoa:\n",
    "    def __init__(self, nome, idade, genero, altura):\n",
    "    #metodo construtor, cria objetos e atributos\n",
    "        self.nome = nome\n",
    "        self.idade = idade\n",
    "        self.genero = genero\n",
    "        self.altura = altura\n",
    "\n",
    "pessoa1 = Pessoa('Adolfo',36,'M',1.75)\n",
    "pessoa2 = Pessoa('Maria',28,'F',1.72)\n",
    "\n",
    "print(pessoa1.nome, pessoa1.idade)\n",
    "print(pessoa2.nome, pessoa2.idade)\n"
   ]
  },
  {
   "cell_type": "code",
   "execution_count": 9,
   "metadata": {},
   "outputs": [
    {
     "name": "stdout",
     "output_type": "stream",
     "text": [
      "Seu ano de nascimento é 1986\n"
     ]
    }
   ],
   "source": [
    "class Pessoa:\n",
    "    ano_atual = 2022\n",
    "\n",
    "    def __init__(self, nome, idade):\n",
    "        self.nome = nome\n",
    "        self.idade = idade\n",
    "    \n",
    "    def ano_nascimento(self):\n",
    "        ano_nasc = self.ano_atual - self.idade\n",
    "        print(f'Seu ano de nascimento é {ano_nasc}')\n",
    "\n",
    "pessoa1 = Pessoa('Adolfo', 36)\n",
    "pessoa1.ano_nascimento()"
   ]
  }
 ],
 "metadata": {
  "interpreter": {
   "hash": "0adfdfe6ada0584596d2b50a0044c8c4dba4c2a1422c105db34303e973b14a07"
  },
  "kernelspec": {
   "display_name": "Python 3.11.0 64-bit",
   "language": "python",
   "name": "python3"
  },
  "language_info": {
   "codemirror_mode": {
    "name": "ipython",
    "version": 3
   },
   "file_extension": ".py",
   "mimetype": "text/x-python",
   "name": "python",
   "nbconvert_exporter": "python",
   "pygments_lexer": "ipython3",
   "version": "3.11.0"
  },
  "orig_nbformat": 4
 },
 "nbformat": 4,
 "nbformat_minor": 2
}
